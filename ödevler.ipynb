{
 "cells": [
  {
   "cell_type": "code",
   "id": "initial_id",
   "metadata": {
    "collapsed": true
   },
   "source": [
    "num=int(input(\"enter a number:\"))\n",
    "\n",
    "if num<0:\n",
    "    print(\"negative\")\n",
    "else:\n",
    "    print(\"positive\")\n",
    "\n",
    "if num%2==0:\n",
    "    print(\"even number\")\n",
    "else:\n",
    "    print(\"odd number\")\n",
    "\n"
   ],
   "outputs": [],
   "execution_count": null
  },
  {
   "metadata": {},
   "cell_type": "code",
   "source": [
    "myStr=input(\"enter a word:\")\n",
    "\n",
    "wordFrequency={}\n",
    "\n",
    "for char in myStr:\n",
    "    if char in wordFrequency:\n",
    "        wordFrequency[char]+=1    #anahtarı verip degerini arttırıyor\n",
    "    else:\n",
    "        wordFrequency[char]=1\n",
    "\n",
    "print(wordFrequency)\n",
    "\n",
    "\n",
    "\n"
   ],
   "id": "7cda9f6c08d001a5",
   "outputs": [],
   "execution_count": null
  },
  {
   "metadata": {},
   "cell_type": "code",
   "source": [
    "password=input(\"enter a password:\")\n",
    "upp_letter=0\n",
    "is_digit=0\n",
    "if len(password)<8:\n",
    "    print(\"You must enter at least 8 characters\")\n",
    "\n",
    "for char in password:\n",
    "    if 65 <= ord(char) <= 90:\n",
    "        upp_letter+=1\n",
    "    elif 48 <= ord(char) <= 57:\n",
    "        is_digit+=1\n",
    "\n",
    "\n",
    "\n",
    "if upp_letter==0:\n",
    "    print(\"You must enter at least 1 uppercase letter\")\n",
    "if is_digit==0:\n",
    "    print(\"You must enter at least digit\")\n",
    "\n"
   ],
   "id": "42c241849c0e5e59",
   "outputs": [],
   "execution_count": null
  },
  {
   "metadata": {},
   "cell_type": "code",
   "source": [
    "myList=[12, 4, 9, 25, 30, 7, 18]\n",
    "sumofNumbers=0\n",
    "list_greater_avarege=[]\n",
    "for i in myList:\n",
    "    sumofNumbers+=i\n",
    "\n",
    "avrg=sumofNumbers/len(myList)\n",
    "print(\"Avarege of list is:\",avrg)\n",
    "\n",
    "for num in myList:\n",
    "    if num>avrg:\n",
    "        list_greater_avarege.append(num)\n",
    "print(list_greater_avarege)\n",
    "\n",
    "\n"
   ],
   "id": "b2a3f40530b8cef0",
   "outputs": [],
   "execution_count": null
  },
  {
   "metadata": {},
   "cell_type": "code",
   "source": [
    "for i in range(1,6):\n",
    "    for k in range(i):\n",
    "       print(\"*\",end=\"\")\n",
    "    print()\n"
   ],
   "id": "a5c9110b5fbe3e82",
   "outputs": [],
   "execution_count": null
  },
  {
   "metadata": {},
   "cell_type": "code",
   "source": [
    "\n",
    "Mysum=0\n",
    "i=0\n",
    "my_list=[]\n",
    "while True:\n",
    "    num=int(input(\"enter a number:\"))\n",
    "    if num==0:\n",
    "        break\n",
    "    my_list.append(num)\n",
    "    Mysum+=num\n",
    "    i+=1\n",
    "    if i==0:\n",
    "     print(\"error\")\n",
    "     break\n",
    "\n",
    "print(my_list)\n",
    "avarg=Mysum/i\n",
    "print(avarg)\n"
   ],
   "id": "872c1415b9716a2a",
   "outputs": [],
   "execution_count": null
  },
  {
   "metadata": {},
   "cell_type": "code",
   "source": [
    "word = input(\"Enter a word: \")\n",
    "\n",
    "is_palindrome = True  # Başlangıçta kelimenin palindrom olduğunu varsayıyoruz\n",
    "for i in range(len(word) // 2):  # Kelimenin yarısına kadar döngü\n",
    "    if word[i] != word[-(i + 1)]:  # Baş ve son harfleri karşılaştır\n",
    "        is_palindrome = False\n",
    "        break\n",
    "\n",
    "if is_palindrome:\n",
    "    print(\"The word is a palindrome.\")\n",
    "else:\n",
    "    print(\"The word is not a palindrome.\")"
   ],
   "id": "ce97cd3985479fab",
   "outputs": [],
   "execution_count": null
  },
  {
   "metadata": {},
   "cell_type": "code",
   "source": [
    "my_list=[]\n",
    "for i in range(101):\n",
    "    if i%3==0 and i%5==0:\n",
    "        my_list.append(i)\n",
    "\n",
    "print(my_list)"
   ],
   "id": "e54a5a557423db8b",
   "outputs": [],
   "execution_count": null
  },
  {
   "metadata": {},
   "cell_type": "code",
   "source": [
    "sentence=input(\"enter a sentence: \")\n",
    "\n",
    "split_sentence=sentence.split()\n",
    "print(split_sentence)\n",
    "for i in range(len(split_sentence)):\n",
    "    split_sentence[i]=split_sentence[i].capitalize()\n",
    "print(split_sentence)"
   ],
   "id": "48c46c57c561d33",
   "outputs": [],
   "execution_count": null
  },
  {
   "metadata": {},
   "cell_type": "code",
   "source": [
    "film_yorumlari =[]\n",
    "iyi=0\n",
    "for i in range(1,6):\n",
    "   print(f'{i}. yorumu giriniz')\n",
    "   yorum=input()\n",
    "   film_yorumlari.append(yorum)\n",
    "\n",
    "print(film_yorumlari)\n",
    "print(\"toplam yorum sayısı:\",len(film_yorumlari))\n",
    "iyi_sayisi=list(filter(lambda word: 'iyi' in word,film_yorumlari))\n",
    "print(f'\"iyi\" geçen yorum sayısı:{len(iyi_sayisi)}')\n",
    "en_uzun_yorum = max(film_yorumlari, key=len)\n",
    "en_kisa_yorum = min(film_yorumlari, key=len)\n",
    "\n",
    "print(\"En uzun yorum:\", en_uzun_yorum)\n",
    "print(\"En kısa yorum:\", en_kisa_yorum)"
   ],
   "id": "1da32c65adfda4ce",
   "outputs": [],
   "execution_count": null
  }
 ],
 "metadata": {
  "kernelspec": {
   "display_name": "Python 3",
   "language": "python",
   "name": "python3"
  },
  "language_info": {
   "codemirror_mode": {
    "name": "ipython",
    "version": 2
   },
   "file_extension": ".py",
   "mimetype": "text/x-python",
   "name": "python",
   "nbconvert_exporter": "python",
   "pygments_lexer": "ipython2",
   "version": "2.7.6"
  }
 },
 "nbformat": 4,
 "nbformat_minor": 5
}
